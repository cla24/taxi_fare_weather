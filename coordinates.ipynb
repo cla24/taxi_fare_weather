{
 "cells": [
  {
   "cell_type": "code",
   "execution_count": 237,
   "metadata": {},
   "outputs": [],
   "source": [
    "import pandas as pd\n",
    "import numpy as np"
   ]
  },
  {
   "cell_type": "code",
   "execution_count": 238,
   "metadata": {},
   "outputs": [
    {
     "data": {
      "text/html": [
       "<div>\n",
       "<style scoped>\n",
       "    .dataframe tbody tr th:only-of-type {\n",
       "        vertical-align: middle;\n",
       "    }\n",
       "\n",
       "    .dataframe tbody tr th {\n",
       "        vertical-align: top;\n",
       "    }\n",
       "\n",
       "    .dataframe thead th {\n",
       "        text-align: right;\n",
       "    }\n",
       "</style>\n",
       "<table border=\"1\" class=\"dataframe\">\n",
       "  <thead>\n",
       "    <tr style=\"text-align: right;\">\n",
       "      <th></th>\n",
       "      <th>fare_amount</th>\n",
       "      <th>pickup_datetime</th>\n",
       "      <th>pickup_longitude</th>\n",
       "      <th>pickup_latitude</th>\n",
       "      <th>dropoff_longitude</th>\n",
       "      <th>dropoff_latitude</th>\n",
       "      <th>passenger_count</th>\n",
       "      <th>DATE</th>\n",
       "      <th>AWND</th>\n",
       "      <th>PRCP</th>\n",
       "      <th>SNOW</th>\n",
       "      <th>SNWD</th>\n",
       "      <th>TMAX</th>\n",
       "      <th>TMIN</th>\n",
       "      <th>distance_traveled_km</th>\n",
       "      <th>week_day</th>\n",
       "    </tr>\n",
       "  </thead>\n",
       "  <tbody>\n",
       "    <tr>\n",
       "      <th>0</th>\n",
       "      <td>4.5</td>\n",
       "      <td>2009-06-15 17:26:21 UTC</td>\n",
       "      <td>-73.844311</td>\n",
       "      <td>40.721319</td>\n",
       "      <td>-73.841610</td>\n",
       "      <td>40.712278</td>\n",
       "      <td>1</td>\n",
       "      <td>2009-06-15</td>\n",
       "      <td>3.13</td>\n",
       "      <td>0.50</td>\n",
       "      <td>0.0</td>\n",
       "      <td>0</td>\n",
       "      <td>72</td>\n",
       "      <td>57</td>\n",
       "      <td>17.231137</td>\n",
       "      <td>0</td>\n",
       "    </tr>\n",
       "    <tr>\n",
       "      <th>1</th>\n",
       "      <td>16.9</td>\n",
       "      <td>2010-01-05 16:52:16 UTC</td>\n",
       "      <td>-74.016048</td>\n",
       "      <td>40.711303</td>\n",
       "      <td>-73.979268</td>\n",
       "      <td>40.782004</td>\n",
       "      <td>1</td>\n",
       "      <td>2010-01-05</td>\n",
       "      <td>9.84</td>\n",
       "      <td>0.00</td>\n",
       "      <td>0.0</td>\n",
       "      <td>0</td>\n",
       "      <td>30</td>\n",
       "      <td>20</td>\n",
       "      <td>246.295936</td>\n",
       "      <td>1</td>\n",
       "    </tr>\n",
       "    <tr>\n",
       "      <th>2</th>\n",
       "      <td>5.7</td>\n",
       "      <td>2011-08-18 00:35:00 UTC</td>\n",
       "      <td>-73.982738</td>\n",
       "      <td>40.761270</td>\n",
       "      <td>-73.991242</td>\n",
       "      <td>40.750562</td>\n",
       "      <td>2</td>\n",
       "      <td>2011-08-18</td>\n",
       "      <td>4.92</td>\n",
       "      <td>0.07</td>\n",
       "      <td>0.0</td>\n",
       "      <td>0</td>\n",
       "      <td>83</td>\n",
       "      <td>67</td>\n",
       "      <td>55.251875</td>\n",
       "      <td>3</td>\n",
       "    </tr>\n",
       "    <tr>\n",
       "      <th>3</th>\n",
       "      <td>7.7</td>\n",
       "      <td>2012-04-21 04:30:42 UTC</td>\n",
       "      <td>-73.987130</td>\n",
       "      <td>40.733143</td>\n",
       "      <td>-73.991567</td>\n",
       "      <td>40.758092</td>\n",
       "      <td>1</td>\n",
       "      <td>2012-04-21</td>\n",
       "      <td>4.92</td>\n",
       "      <td>0.22</td>\n",
       "      <td>0.0</td>\n",
       "      <td>0</td>\n",
       "      <td>71</td>\n",
       "      <td>54</td>\n",
       "      <td>38.152003</td>\n",
       "      <td>5</td>\n",
       "    </tr>\n",
       "    <tr>\n",
       "      <th>4</th>\n",
       "      <td>5.3</td>\n",
       "      <td>2010-03-09 07:51:00 UTC</td>\n",
       "      <td>-73.968095</td>\n",
       "      <td>40.768008</td>\n",
       "      <td>-73.956655</td>\n",
       "      <td>40.783762</td>\n",
       "      <td>1</td>\n",
       "      <td>2010-03-09</td>\n",
       "      <td>4.47</td>\n",
       "      <td>0.00</td>\n",
       "      <td>0.0</td>\n",
       "      <td>0</td>\n",
       "      <td>61</td>\n",
       "      <td>44</td>\n",
       "      <td>74.122374</td>\n",
       "      <td>1</td>\n",
       "    </tr>\n",
       "  </tbody>\n",
       "</table>\n",
       "</div>"
      ],
      "text/plain": [
       "   fare_amount          pickup_datetime  pickup_longitude  pickup_latitude  \\\n",
       "0          4.5  2009-06-15 17:26:21 UTC        -73.844311        40.721319   \n",
       "1         16.9  2010-01-05 16:52:16 UTC        -74.016048        40.711303   \n",
       "2          5.7  2011-08-18 00:35:00 UTC        -73.982738        40.761270   \n",
       "3          7.7  2012-04-21 04:30:42 UTC        -73.987130        40.733143   \n",
       "4          5.3  2010-03-09 07:51:00 UTC        -73.968095        40.768008   \n",
       "\n",
       "   dropoff_longitude  dropoff_latitude  passenger_count        DATE  AWND  \\\n",
       "0         -73.841610         40.712278                1  2009-06-15  3.13   \n",
       "1         -73.979268         40.782004                1  2010-01-05  9.84   \n",
       "2         -73.991242         40.750562                2  2011-08-18  4.92   \n",
       "3         -73.991567         40.758092                1  2012-04-21  4.92   \n",
       "4         -73.956655         40.783762                1  2010-03-09  4.47   \n",
       "\n",
       "   PRCP  SNOW  SNWD  TMAX  TMIN  distance_traveled_km  week_day  \n",
       "0  0.50   0.0     0    72    57             17.231137         0  \n",
       "1  0.00   0.0     0    30    20            246.295936         1  \n",
       "2  0.07   0.0     0    83    67             55.251875         3  \n",
       "3  0.22   0.0     0    71    54             38.152003         5  \n",
       "4  0.00   0.0     0    61    44             74.122374         1  "
      ]
     },
     "execution_count": 238,
     "metadata": {},
     "output_type": "execute_result"
    }
   ],
   "source": [
    "df = pd.read_csv(\"taxi_weather.csv\")\n",
    "df.head()"
   ]
  },
  {
   "cell_type": "markdown",
   "metadata": {},
   "source": [
    "Drop the nans from the dataframe"
   ]
  },
  {
   "cell_type": "code",
   "execution_count": 239,
   "metadata": {
    "scrolled": true
   },
   "outputs": [
    {
     "name": "stdout",
     "output_type": "stream",
     "text": [
      "New number of observations: 990845\n"
     ]
    }
   ],
   "source": [
    "df = df.dropna(axis='rows')\n",
    "print('New number of observations: %d' % len(df))"
   ]
  },
  {
   "cell_type": "markdown",
   "metadata": {},
   "source": [
    "A lot of the coordinates are wrong and would mess up the analysis, so first take those out of the df\n",
    "\n",
    "After checking the coordinates against a map of NYC, I've determined that reasonable longitude bounds are [-74.20, -73.25] which reasonable latitude bounds are [40.95, 40.50]."
   ]
  },
  {
   "cell_type": "code",
   "execution_count": 240,
   "metadata": {},
   "outputs": [],
   "source": [
    "# lower bound for latitude\n",
    "df = df[df['pickup_latitude'] >= 40.5]\n",
    "df = df[df['dropoff_latitude'] >= 40.5]\n",
    "\n",
    "# upper bound for latitude\n",
    "df = df[df['pickup_latitude'] <= 40.95]\n",
    "df = df[df['dropoff_latitude'] <= 40.95]\n",
    "\n",
    "# upper bound for longitude\n",
    "df = df[df['pickup_longitude'] <= -73.75]\n",
    "df = df[df['dropoff_longitude'] <= -73.75]\n",
    "\n",
    "# lower bound for longitude\n",
    "df = df[df['pickup_longitude'] >= -74.2]\n",
    "df = df[df['dropoff_longitude'] >= -74.2]"
   ]
  },
  {
   "cell_type": "code",
   "execution_count": 241,
   "metadata": {},
   "outputs": [
    {
     "data": {
      "text/plain": [
       "968328"
      ]
     },
     "execution_count": 241,
     "metadata": {},
     "output_type": "execute_result"
    }
   ],
   "source": [
    "len(df)"
   ]
  },
  {
   "cell_type": "markdown",
   "metadata": {},
   "source": [
    "Convert the lattitudes and longitudes to np arrays of x and y so that I can form a grid. Create a bounding box inside which all of the points will live"
   ]
  },
  {
   "cell_type": "code",
   "execution_count": 242,
   "metadata": {},
   "outputs": [
    {
     "data": {
      "text/plain": [
       "(-74.199701, -73.75006103515625, 40.501978, 40.949817)"
      ]
     },
     "execution_count": 242,
     "metadata": {},
     "output_type": "execute_result"
    }
   ],
   "source": [
    "y = np.concatenate([df['pickup_latitude'].to_numpy(), df['dropoff_latitude'].to_numpy()])\n",
    "x = np.concatenate([df['pickup_longitude'].to_numpy(), df['dropoff_longitude'].to_numpy()])\n",
    "\n",
    "bottom_left, bottom_right = (x.min(), y.min()), (x.max(), y.min())\n",
    "top_left, top_right = (x.min(), y.max()), (x.max(), y.max())\n",
    "\n",
    "BBox = (x.min(), x.max(), y.min(),y.max())\n",
    "BBox"
   ]
  },
  {
   "cell_type": "markdown",
   "metadata": {},
   "source": [
    "Divide the area up into grid of 100 by 100 rectangles"
   ]
  },
  {
   "cell_type": "code",
   "execution_count": 243,
   "metadata": {},
   "outputs": [],
   "source": [
    "cols = np.linspace(bottom_left[0], bottom_right[0], num=100)\n",
    "rows = np.linspace(bottom_left[1], top_left[1], num=100)"
   ]
  },
  {
   "cell_type": "markdown",
   "metadata": {},
   "source": [
    "create columns for each observation's dropoff and pickup places in the grid"
   ]
  },
  {
   "cell_type": "code",
   "execution_count": 244,
   "metadata": {},
   "outputs": [],
   "source": [
    "df['pick_col'] = np.searchsorted(cols, df['pickup_longitude'])\n",
    "df['drop_col'] = np.searchsorted(cols, df['dropoff_longitude'])\n",
    "\n",
    "df['pick_row'] = np.searchsorted(rows, df['pickup_latitude'])\n",
    "df['drop_row'] = np.searchsorted(rows, df['dropoff_latitude'])"
   ]
  },
  {
   "cell_type": "code",
   "execution_count": 245,
   "metadata": {},
   "outputs": [
    {
     "data": {
      "text/html": [
       "<div>\n",
       "<style scoped>\n",
       "    .dataframe tbody tr th:only-of-type {\n",
       "        vertical-align: middle;\n",
       "    }\n",
       "\n",
       "    .dataframe tbody tr th {\n",
       "        vertical-align: top;\n",
       "    }\n",
       "\n",
       "    .dataframe thead th {\n",
       "        text-align: right;\n",
       "    }\n",
       "</style>\n",
       "<table border=\"1\" class=\"dataframe\">\n",
       "  <thead>\n",
       "    <tr style=\"text-align: right;\">\n",
       "      <th></th>\n",
       "      <th>fare_amount</th>\n",
       "      <th>pickup_datetime</th>\n",
       "      <th>pickup_longitude</th>\n",
       "      <th>pickup_latitude</th>\n",
       "      <th>dropoff_longitude</th>\n",
       "      <th>dropoff_latitude</th>\n",
       "      <th>passenger_count</th>\n",
       "      <th>DATE</th>\n",
       "      <th>AWND</th>\n",
       "      <th>PRCP</th>\n",
       "      <th>SNOW</th>\n",
       "      <th>SNWD</th>\n",
       "      <th>TMAX</th>\n",
       "      <th>TMIN</th>\n",
       "      <th>distance_traveled_km</th>\n",
       "      <th>week_day</th>\n",
       "      <th>pick_col</th>\n",
       "      <th>drop_col</th>\n",
       "      <th>pick_row</th>\n",
       "      <th>drop_row</th>\n",
       "    </tr>\n",
       "  </thead>\n",
       "  <tbody>\n",
       "    <tr>\n",
       "      <th>0</th>\n",
       "      <td>4.5</td>\n",
       "      <td>2009-06-15 17:26:21 UTC</td>\n",
       "      <td>-73.844311</td>\n",
       "      <td>40.721319</td>\n",
       "      <td>-73.841610</td>\n",
       "      <td>40.712278</td>\n",
       "      <td>1</td>\n",
       "      <td>2009-06-15</td>\n",
       "      <td>3.13</td>\n",
       "      <td>0.50</td>\n",
       "      <td>0.0</td>\n",
       "      <td>0</td>\n",
       "      <td>72</td>\n",
       "      <td>57</td>\n",
       "      <td>17.231137</td>\n",
       "      <td>0</td>\n",
       "      <td>79</td>\n",
       "      <td>79</td>\n",
       "      <td>49</td>\n",
       "      <td>47</td>\n",
       "    </tr>\n",
       "    <tr>\n",
       "      <th>1</th>\n",
       "      <td>16.9</td>\n",
       "      <td>2010-01-05 16:52:16 UTC</td>\n",
       "      <td>-74.016048</td>\n",
       "      <td>40.711303</td>\n",
       "      <td>-73.979268</td>\n",
       "      <td>40.782004</td>\n",
       "      <td>1</td>\n",
       "      <td>2010-01-05</td>\n",
       "      <td>9.84</td>\n",
       "      <td>0.00</td>\n",
       "      <td>0.0</td>\n",
       "      <td>0</td>\n",
       "      <td>30</td>\n",
       "      <td>20</td>\n",
       "      <td>246.295936</td>\n",
       "      <td>1</td>\n",
       "      <td>41</td>\n",
       "      <td>49</td>\n",
       "      <td>47</td>\n",
       "      <td>62</td>\n",
       "    </tr>\n",
       "    <tr>\n",
       "      <th>2</th>\n",
       "      <td>5.7</td>\n",
       "      <td>2011-08-18 00:35:00 UTC</td>\n",
       "      <td>-73.982738</td>\n",
       "      <td>40.761270</td>\n",
       "      <td>-73.991242</td>\n",
       "      <td>40.750562</td>\n",
       "      <td>2</td>\n",
       "      <td>2011-08-18</td>\n",
       "      <td>4.92</td>\n",
       "      <td>0.07</td>\n",
       "      <td>0.0</td>\n",
       "      <td>0</td>\n",
       "      <td>83</td>\n",
       "      <td>67</td>\n",
       "      <td>55.251875</td>\n",
       "      <td>3</td>\n",
       "      <td>48</td>\n",
       "      <td>46</td>\n",
       "      <td>58</td>\n",
       "      <td>55</td>\n",
       "    </tr>\n",
       "    <tr>\n",
       "      <th>3</th>\n",
       "      <td>7.7</td>\n",
       "      <td>2012-04-21 04:30:42 UTC</td>\n",
       "      <td>-73.987130</td>\n",
       "      <td>40.733143</td>\n",
       "      <td>-73.991567</td>\n",
       "      <td>40.758092</td>\n",
       "      <td>1</td>\n",
       "      <td>2012-04-21</td>\n",
       "      <td>4.92</td>\n",
       "      <td>0.22</td>\n",
       "      <td>0.0</td>\n",
       "      <td>0</td>\n",
       "      <td>71</td>\n",
       "      <td>54</td>\n",
       "      <td>38.152003</td>\n",
       "      <td>5</td>\n",
       "      <td>47</td>\n",
       "      <td>46</td>\n",
       "      <td>52</td>\n",
       "      <td>57</td>\n",
       "    </tr>\n",
       "    <tr>\n",
       "      <th>4</th>\n",
       "      <td>5.3</td>\n",
       "      <td>2010-03-09 07:51:00 UTC</td>\n",
       "      <td>-73.968095</td>\n",
       "      <td>40.768008</td>\n",
       "      <td>-73.956655</td>\n",
       "      <td>40.783762</td>\n",
       "      <td>1</td>\n",
       "      <td>2010-03-09</td>\n",
       "      <td>4.47</td>\n",
       "      <td>0.00</td>\n",
       "      <td>0.0</td>\n",
       "      <td>0</td>\n",
       "      <td>61</td>\n",
       "      <td>44</td>\n",
       "      <td>74.122374</td>\n",
       "      <td>1</td>\n",
       "      <td>51</td>\n",
       "      <td>54</td>\n",
       "      <td>59</td>\n",
       "      <td>63</td>\n",
       "    </tr>\n",
       "  </tbody>\n",
       "</table>\n",
       "</div>"
      ],
      "text/plain": [
       "   fare_amount          pickup_datetime  pickup_longitude  pickup_latitude  \\\n",
       "0          4.5  2009-06-15 17:26:21 UTC        -73.844311        40.721319   \n",
       "1         16.9  2010-01-05 16:52:16 UTC        -74.016048        40.711303   \n",
       "2          5.7  2011-08-18 00:35:00 UTC        -73.982738        40.761270   \n",
       "3          7.7  2012-04-21 04:30:42 UTC        -73.987130        40.733143   \n",
       "4          5.3  2010-03-09 07:51:00 UTC        -73.968095        40.768008   \n",
       "\n",
       "   dropoff_longitude  dropoff_latitude  passenger_count        DATE  AWND  \\\n",
       "0         -73.841610         40.712278                1  2009-06-15  3.13   \n",
       "1         -73.979268         40.782004                1  2010-01-05  9.84   \n",
       "2         -73.991242         40.750562                2  2011-08-18  4.92   \n",
       "3         -73.991567         40.758092                1  2012-04-21  4.92   \n",
       "4         -73.956655         40.783762                1  2010-03-09  4.47   \n",
       "\n",
       "   PRCP  SNOW  SNWD  TMAX  TMIN  distance_traveled_km  week_day  pick_col  \\\n",
       "0  0.50   0.0     0    72    57             17.231137         0        79   \n",
       "1  0.00   0.0     0    30    20            246.295936         1        41   \n",
       "2  0.07   0.0     0    83    67             55.251875         3        48   \n",
       "3  0.22   0.0     0    71    54             38.152003         5        47   \n",
       "4  0.00   0.0     0    61    44             74.122374         1        51   \n",
       "\n",
       "   drop_col  pick_row  drop_row  \n",
       "0        79        49        47  \n",
       "1        49        47        62  \n",
       "2        46        58        55  \n",
       "3        46        52        57  \n",
       "4        54        59        63  "
      ]
     },
     "execution_count": 245,
     "metadata": {},
     "output_type": "execute_result"
    }
   ],
   "source": [
    "df.head()"
   ]
  },
  {
   "cell_type": "code",
   "execution_count": 246,
   "metadata": {},
   "outputs": [
    {
     "data": {
      "text/plain": [
       "40.51102525252525"
      ]
     },
     "execution_count": 246,
     "metadata": {},
     "output_type": "execute_result"
    }
   ],
   "source": [
    "rows[2]"
   ]
  },
  {
   "cell_type": "code",
   "execution_count": 247,
   "metadata": {},
   "outputs": [
    {
     "data": {
      "text/plain": [
       "40.592450525252524"
      ]
     },
     "execution_count": 247,
     "metadata": {},
     "output_type": "execute_result"
    }
   ],
   "source": [
    "rows[20]"
   ]
  },
  {
   "cell_type": "code",
   "execution_count": 248,
   "metadata": {},
   "outputs": [
    {
     "data": {
      "text/plain": [
       "(39.7775, 116.58888889)"
      ]
     },
     "execution_count": 248,
     "metadata": {},
     "output_type": "execute_result"
    }
   ],
   "source": [
    "bottomRight"
   ]
  },
  {
   "cell_type": "code",
   "execution_count": 249,
   "metadata": {},
   "outputs": [
    {
     "data": {
      "text/plain": [
       "100"
      ]
     },
     "execution_count": 249,
     "metadata": {},
     "output_type": "execute_result"
    }
   ],
   "source": [
    "len(cols)"
   ]
  },
  {
   "cell_type": "code",
   "execution_count": 250,
   "metadata": {},
   "outputs": [
    {
     "data": {
      "text/plain": [
       "(-74.199701, 40.501978)"
      ]
     },
     "execution_count": 250,
     "metadata": {},
     "output_type": "execute_result"
    }
   ],
   "source": [
    "bottom_left"
   ]
  },
  {
   "cell_type": "code",
   "execution_count": null,
   "metadata": {},
   "outputs": [],
   "source": [
    "bottom_left[0] - bottom_right[0]"
   ]
  },
  {
   "cell_type": "code",
   "execution_count": null,
   "metadata": {},
   "outputs": [],
   "source": [
    "top_left[1] - bottom_left[1]"
   ]
  },
  {
   "cell_type": "code",
   "execution_count": null,
   "metadata": {},
   "outputs": [],
   "source": [
    "cols = np.linspace(bottomLeft[1], bottomRight[1], num=18)\n",
    "rows = np.linspace(bottomLeft[0], topLeft[0], num=15)\n",
    "df['col'] = np.searchsorted(cols, df['long'])\n",
    "df['row'] = np.searchsorted(rows, df['lat'])"
   ]
  },
  {
   "cell_type": "code",
   "execution_count": null,
   "metadata": {},
   "outputs": [],
   "source": [
    "\n",
    "\n",
    "bottomLeft = (39.77750000, 116.17944444)\n",
    "bottomRight = (39.77750000, 116.58888889)\n",
    "topLeft = (40.04722222, 116.58888889)\n",
    "topRight = (40.04722222, 116.17944444)\n",
    "\n",
    "cols = np.linspace(bottomLeft[1], bottomRight[1], num=18)\n",
    "rows = np.linspace(bottomLeft[0], topLeft[0], num=15)\n",
    "df['col'] = np.searchsorted(cols, df['long'])\n",
    "df['row'] = np.searchsorted(rows, df['lat'])\n",
    "\n",
    "\n",
    "\n",
    "numpy.linspace"
   ]
  },
  {
   "cell_type": "code",
   "execution_count": null,
   "metadata": {},
   "outputs": [],
   "source": [
    "BBox"
   ]
  },
  {
   "cell_type": "code",
   "execution_count": null,
   "metadata": {},
   "outputs": [],
   "source": [
    "x_coordinates.min(), x_coordinates.max()"
   ]
  },
  {
   "cell_type": "code",
   "execution_count": null,
   "metadata": {},
   "outputs": [],
   "source": [
    "y_coordinates.min(), y_coordinates.max()"
   ]
  }
 ],
 "metadata": {
  "kernelspec": {
   "display_name": "Python 3",
   "language": "python",
   "name": "python3"
  },
  "language_info": {
   "codemirror_mode": {
    "name": "ipython",
    "version": 3
   },
   "file_extension": ".py",
   "mimetype": "text/x-python",
   "name": "python",
   "nbconvert_exporter": "python",
   "pygments_lexer": "ipython3",
   "version": "3.8.5"
  }
 },
 "nbformat": 4,
 "nbformat_minor": 4
}
