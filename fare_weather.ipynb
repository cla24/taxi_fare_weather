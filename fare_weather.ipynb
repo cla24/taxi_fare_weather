{
 "cells": [
  {
   "cell_type": "code",
   "execution_count": 1,
   "metadata": {},
   "outputs": [],
   "source": [
    "import pandas as pd\n",
    "import numpy as np\n",
    "\n",
    "import seaborn as sns\n",
    "import matplotlib.pyplot as plt"
   ]
  },
  {
   "cell_type": "code",
   "execution_count": 2,
   "metadata": {},
   "outputs": [
    {
     "data": {
      "text/html": [
       "<div>\n",
       "<style scoped>\n",
       "    .dataframe tbody tr th:only-of-type {\n",
       "        vertical-align: middle;\n",
       "    }\n",
       "\n",
       "    .dataframe tbody tr th {\n",
       "        vertical-align: top;\n",
       "    }\n",
       "\n",
       "    .dataframe thead th {\n",
       "        text-align: right;\n",
       "    }\n",
       "</style>\n",
       "<table border=\"1\" class=\"dataframe\">\n",
       "  <thead>\n",
       "    <tr style=\"text-align: right;\">\n",
       "      <th></th>\n",
       "      <th>fare_amount</th>\n",
       "      <th>pickup_datetime</th>\n",
       "      <th>pickup_longitude</th>\n",
       "      <th>pickup_latitude</th>\n",
       "      <th>dropoff_longitude</th>\n",
       "      <th>dropoff_latitude</th>\n",
       "      <th>passenger_count</th>\n",
       "      <th>DATE</th>\n",
       "      <th>AWND</th>\n",
       "      <th>PRCP</th>\n",
       "      <th>SNOW</th>\n",
       "      <th>SNWD</th>\n",
       "      <th>TMAX</th>\n",
       "      <th>TMIN</th>\n",
       "      <th>distance_traveled_km</th>\n",
       "      <th>week_day</th>\n",
       "    </tr>\n",
       "  </thead>\n",
       "  <tbody>\n",
       "    <tr>\n",
       "      <th>0</th>\n",
       "      <td>4.5</td>\n",
       "      <td>2009-06-15 17:26:21 UTC</td>\n",
       "      <td>-73.844311</td>\n",
       "      <td>40.721319</td>\n",
       "      <td>-73.841610</td>\n",
       "      <td>40.712278</td>\n",
       "      <td>1</td>\n",
       "      <td>2009-06-15</td>\n",
       "      <td>3.13</td>\n",
       "      <td>0.50</td>\n",
       "      <td>0.0</td>\n",
       "      <td>0</td>\n",
       "      <td>72</td>\n",
       "      <td>57</td>\n",
       "      <td>17.231137</td>\n",
       "      <td>0</td>\n",
       "    </tr>\n",
       "    <tr>\n",
       "      <th>1</th>\n",
       "      <td>16.9</td>\n",
       "      <td>2010-01-05 16:52:16 UTC</td>\n",
       "      <td>-74.016048</td>\n",
       "      <td>40.711303</td>\n",
       "      <td>-73.979268</td>\n",
       "      <td>40.782004</td>\n",
       "      <td>1</td>\n",
       "      <td>2010-01-05</td>\n",
       "      <td>9.84</td>\n",
       "      <td>0.00</td>\n",
       "      <td>0.0</td>\n",
       "      <td>0</td>\n",
       "      <td>30</td>\n",
       "      <td>20</td>\n",
       "      <td>246.295936</td>\n",
       "      <td>1</td>\n",
       "    </tr>\n",
       "    <tr>\n",
       "      <th>2</th>\n",
       "      <td>5.7</td>\n",
       "      <td>2011-08-18 00:35:00 UTC</td>\n",
       "      <td>-73.982738</td>\n",
       "      <td>40.761270</td>\n",
       "      <td>-73.991242</td>\n",
       "      <td>40.750562</td>\n",
       "      <td>2</td>\n",
       "      <td>2011-08-18</td>\n",
       "      <td>4.92</td>\n",
       "      <td>0.07</td>\n",
       "      <td>0.0</td>\n",
       "      <td>0</td>\n",
       "      <td>83</td>\n",
       "      <td>67</td>\n",
       "      <td>55.251875</td>\n",
       "      <td>3</td>\n",
       "    </tr>\n",
       "    <tr>\n",
       "      <th>3</th>\n",
       "      <td>7.7</td>\n",
       "      <td>2012-04-21 04:30:42 UTC</td>\n",
       "      <td>-73.987130</td>\n",
       "      <td>40.733143</td>\n",
       "      <td>-73.991567</td>\n",
       "      <td>40.758092</td>\n",
       "      <td>1</td>\n",
       "      <td>2012-04-21</td>\n",
       "      <td>4.92</td>\n",
       "      <td>0.22</td>\n",
       "      <td>0.0</td>\n",
       "      <td>0</td>\n",
       "      <td>71</td>\n",
       "      <td>54</td>\n",
       "      <td>38.152003</td>\n",
       "      <td>5</td>\n",
       "    </tr>\n",
       "    <tr>\n",
       "      <th>4</th>\n",
       "      <td>5.3</td>\n",
       "      <td>2010-03-09 07:51:00 UTC</td>\n",
       "      <td>-73.968095</td>\n",
       "      <td>40.768008</td>\n",
       "      <td>-73.956655</td>\n",
       "      <td>40.783762</td>\n",
       "      <td>1</td>\n",
       "      <td>2010-03-09</td>\n",
       "      <td>4.47</td>\n",
       "      <td>0.00</td>\n",
       "      <td>0.0</td>\n",
       "      <td>0</td>\n",
       "      <td>61</td>\n",
       "      <td>44</td>\n",
       "      <td>74.122374</td>\n",
       "      <td>1</td>\n",
       "    </tr>\n",
       "  </tbody>\n",
       "</table>\n",
       "</div>"
      ],
      "text/plain": [
       "   fare_amount          pickup_datetime  pickup_longitude  pickup_latitude  \\\n",
       "0          4.5  2009-06-15 17:26:21 UTC        -73.844311        40.721319   \n",
       "1         16.9  2010-01-05 16:52:16 UTC        -74.016048        40.711303   \n",
       "2          5.7  2011-08-18 00:35:00 UTC        -73.982738        40.761270   \n",
       "3          7.7  2012-04-21 04:30:42 UTC        -73.987130        40.733143   \n",
       "4          5.3  2010-03-09 07:51:00 UTC        -73.968095        40.768008   \n",
       "\n",
       "   dropoff_longitude  dropoff_latitude  passenger_count        DATE  AWND  \\\n",
       "0         -73.841610         40.712278                1  2009-06-15  3.13   \n",
       "1         -73.979268         40.782004                1  2010-01-05  9.84   \n",
       "2         -73.991242         40.750562                2  2011-08-18  4.92   \n",
       "3         -73.991567         40.758092                1  2012-04-21  4.92   \n",
       "4         -73.956655         40.783762                1  2010-03-09  4.47   \n",
       "\n",
       "   PRCP  SNOW  SNWD  TMAX  TMIN  distance_traveled_km  week_day  \n",
       "0  0.50   0.0     0    72    57             17.231137         0  \n",
       "1  0.00   0.0     0    30    20            246.295936         1  \n",
       "2  0.07   0.0     0    83    67             55.251875         3  \n",
       "3  0.22   0.0     0    71    54             38.152003         5  \n",
       "4  0.00   0.0     0    61    44             74.122374         1  "
      ]
     },
     "execution_count": 2,
     "metadata": {},
     "output_type": "execute_result"
    }
   ],
   "source": [
    "df = pd.read_csv(\"taxi_weather.csv\")\n",
    "df.head()"
   ]
  },
  {
   "cell_type": "markdown",
   "metadata": {},
   "source": [
    "Create two features from the last project, distance and time of day"
   ]
  },
  {
   "cell_type": "code",
   "execution_count": 3,
   "metadata": {},
   "outputs": [],
   "source": [
    "from sklearn.metrics.pairwise import haversine_distances\n",
    "\n",
    "# function for distance feature\n",
    "def hav_distance(lon1, lat1, lon2, lat2):\n",
    "    # use sklearn's haversine function and multiply by Earth's radius to get distance in km\n",
    "    return haversine_distances([[lon1, lat1], [lon2, lat2]])[0][1] * 6371000/1000\n",
    "\n",
    "df['distance_traveled_km'] = df.apply(lambda x: hav_distance(x['pickup_longitude'], x['pickup_latitude'], \n",
    "                                                            x['dropoff_longitude'], x['dropoff_latitude']), axis=1)\n",
    "\n",
    "# function for pickup_hour feature\n",
    "def time_parse(time_str):\n",
    "    time = time_str.split()[1]\n",
    "    return int(time.split(\":\")[0])\n",
    "\n",
    "df['pickup_hour'] = df.apply(lambda x: time_parse(x['pickup_datetime']), axis=1)"
   ]
  },
  {
   "cell_type": "markdown",
   "metadata": {},
   "source": [
    "Create a feature for a bucket that the distance would fall into"
   ]
  },
  {
   "cell_type": "code",
   "execution_count": 4,
   "metadata": {},
   "outputs": [],
   "source": [
    "df['distance_bin'] = pd.cut(df['fare_amount'], bins = list(range(0, 300, 75))).astype(str)"
   ]
  },
  {
   "cell_type": "markdown",
   "metadata": {},
   "source": [
    "Drop the nans from the dataframe"
   ]
  },
  {
   "cell_type": "code",
   "execution_count": 5,
   "metadata": {
    "scrolled": false
   },
   "outputs": [
    {
     "name": "stdout",
     "output_type": "stream",
     "text": [
      "New number of observations: 990845\n"
     ]
    }
   ],
   "source": [
    "df = df.dropna(axis='rows')\n",
    "print('New number of observations: %d' % len(df))"
   ]
  },
  {
   "cell_type": "markdown",
   "metadata": {},
   "source": [
    "Some of the fares also make no sense, so fix that too. Since as of 2018, the lowest base fee for a taxi ride in NYC is $2.50, I'll drop observations with fare_amount below 1.5\n",
    "\n",
    "Also, the 99.9th percentile is less than 58, so it looks safe to just cut out values >= 60"
   ]
  },
  {
   "cell_type": "code",
   "execution_count": 6,
   "metadata": {},
   "outputs": [],
   "source": [
    "df = df[df['fare_amount'] > 1.5]\n",
    "df = df[df['fare_amount'] < 60]"
   ]
  },
  {
   "cell_type": "markdown",
   "metadata": {},
   "source": [
    "Some of the observations are too high to make sense, so take out all of the rows where the distance traveled is above the 95th percentile, then also take out all of the rows where the distances is 0"
   ]
  },
  {
   "cell_type": "code",
   "execution_count": 7,
   "metadata": {},
   "outputs": [
    {
     "data": {
      "text/plain": [
       "count    910658.000000\n",
       "mean        106.790090\n",
       "std          93.896455\n",
       "min           0.000214\n",
       "25%          42.398428\n",
       "50%          79.854190\n",
       "75%         140.872712\n",
       "max         599.238398\n",
       "Name: distance_traveled_km, dtype: float64"
      ]
     },
     "execution_count": 7,
     "metadata": {},
     "output_type": "execute_result"
    }
   ],
   "source": [
    "df = df[df['distance_traveled_km'] <= df['distance_traveled_km'].quantile(.95)]\n",
    "df = df[df['distance_traveled_km'] > 0]\n",
    "df['distance_traveled_km'].describe()"
   ]
  },
  {
   "cell_type": "code",
   "execution_count": 8,
   "metadata": {},
   "outputs": [
    {
     "data": {
      "text/plain": [
       "0.006371      19\n",
       "0.012742      12\n",
       "0.012742       8\n",
       "0.025484       7\n",
       "0.019113       7\n",
       "              ..\n",
       "120.973732     1\n",
       "83.364167      1\n",
       "94.942996      1\n",
       "18.497318      1\n",
       "117.810997     1\n",
       "Name: distance_traveled_km, Length: 910563, dtype: int64"
      ]
     },
     "execution_count": 8,
     "metadata": {},
     "output_type": "execute_result"
    }
   ],
   "source": [
    "df['distance_traveled_km'].value_counts()"
   ]
  },
  {
   "cell_type": "markdown",
   "metadata": {},
   "source": [
    "A lot of the coordinates are wrong and would mess up the analysis, so take those out of the df\n",
    "\n",
    "After checking the coordinates against a map of NYC, I've determined that reasonable longitude bounds are [-74.20, -73.25] which reasonable latitude bounds are [40.95, 40.50]."
   ]
  },
  {
   "cell_type": "code",
   "execution_count": 9,
   "metadata": {},
   "outputs": [],
   "source": [
    "# lower bound for latitude\n",
    "df = df[df['pickup_latitude'] >= 40.5]\n",
    "df = df[df['dropoff_latitude'] >= 40.5]\n",
    "\n",
    "# upper bound for latitude\n",
    "df = df[df['pickup_latitude'] <= 40.95]\n",
    "df = df[df['dropoff_latitude'] <= 40.95]\n",
    "\n",
    "# upper bound for longitude\n",
    "df = df[df['pickup_longitude'] <= -73.75]\n",
    "df = df[df['dropoff_longitude'] <= -73.75]\n",
    "\n",
    "# lower bound for longitude\n",
    "df = df[df['pickup_longitude'] >= -74.2]\n",
    "df = df[df['dropoff_longitude'] >= -74.2]"
   ]
  },
  {
   "cell_type": "markdown",
   "metadata": {},
   "source": [
    "Convert the lattitudes and longitudes to np arrays of x and y so that I can form a grid.\n",
    "\n",
    "Divide the area up into grid of 100 by 100 rectangles"
   ]
  },
  {
   "cell_type": "code",
   "execution_count": 10,
   "metadata": {},
   "outputs": [],
   "source": [
    "y = np.concatenate([df['pickup_latitude'].to_numpy(), df['dropoff_latitude'].to_numpy()])\n",
    "x = np.concatenate([df['pickup_longitude'].to_numpy(), df['dropoff_longitude'].to_numpy()])\n",
    "\n",
    "bottom_left, bottom_right = (x.min(), y.min()), (x.max(), y.min())\n",
    "top_left, top_right = (x.min(), y.max()), (x.max(), y.max())\n",
    "\n",
    "cols = np.linspace(bottom_left[0], bottom_right[0], num=100)\n",
    "rows = np.linspace(bottom_left[1], top_left[1], num=100)\n",
    "\n",
    "\n",
    "# create columns for each observation's dropoff and pickup places in the grid\n",
    "df['pick_col'] = np.searchsorted(cols, df['pickup_longitude'])\n",
    "df['drop_col'] = np.searchsorted(cols, df['dropoff_longitude'])\n",
    "\n",
    "df['pick_row'] = np.searchsorted(rows, df['pickup_latitude'])\n",
    "df['drop_row'] = np.searchsorted(rows, df['dropoff_latitude'])"
   ]
  },
  {
   "cell_type": "markdown",
   "metadata": {},
   "source": [
    "Create a 2d histogram to visualize the densities of pickup and dropoff points"
   ]
  },
  {
   "cell_type": "code",
   "execution_count": 11,
   "metadata": {},
   "outputs": [
    {
     "data": {
      "image/png": "[encoded data removed]",
      "text/plain": [
       "<Figure size 432x288 with 1 Axes>"
      ]
     },
     "metadata": {
      "needs_background": "light"
     },
     "output_type": "display_data"
    }
   ],
   "source": [
    "plt.hexbin(x,y)\n",
    "plt.show()"
   ]
  },
  {
   "cell_type": "code",
   "execution_count": 12,
   "metadata": {},
   "outputs": [
    {
     "data": {
      "text/html": [
       "<div>\n",
       "<style scoped>\n",
       "    .dataframe tbody tr th:only-of-type {\n",
       "        vertical-align: middle;\n",
       "    }\n",
       "\n",
       "    .dataframe tbody tr th {\n",
       "        vertical-align: top;\n",
       "    }\n",
       "\n",
       "    .dataframe thead th {\n",
       "        text-align: right;\n",
       "    }\n",
       "</style>\n",
       "<table border=\"1\" class=\"dataframe\">\n",
       "  <thead>\n",
       "    <tr style=\"text-align: right;\">\n",
       "      <th></th>\n",
       "      <th>fare_amount</th>\n",
       "      <th>pickup_datetime</th>\n",
       "      <th>pickup_longitude</th>\n",
       "      <th>pickup_latitude</th>\n",
       "      <th>dropoff_longitude</th>\n",
       "      <th>dropoff_latitude</th>\n",
       "      <th>passenger_count</th>\n",
       "      <th>DATE</th>\n",
       "      <th>AWND</th>\n",
       "      <th>PRCP</th>\n",
       "      <th>...</th>\n",
       "      <th>TMAX</th>\n",
       "      <th>TMIN</th>\n",
       "      <th>distance_traveled_km</th>\n",
       "      <th>week_day</th>\n",
       "      <th>pickup_hour</th>\n",
       "      <th>distance_bin</th>\n",
       "      <th>pick_col</th>\n",
       "      <th>drop_col</th>\n",
       "      <th>pick_row</th>\n",
       "      <th>drop_row</th>\n",
       "    </tr>\n",
       "  </thead>\n",
       "  <tbody>\n",
       "    <tr>\n",
       "      <th>0</th>\n",
       "      <td>4.5</td>\n",
       "      <td>2009-06-15 17:26:21 UTC</td>\n",
       "      <td>-73.844311</td>\n",
       "      <td>40.721319</td>\n",
       "      <td>-73.841610</td>\n",
       "      <td>40.712278</td>\n",
       "      <td>1</td>\n",
       "      <td>2009-06-15</td>\n",
       "      <td>3.13</td>\n",
       "      <td>0.50</td>\n",
       "      <td>...</td>\n",
       "      <td>72</td>\n",
       "      <td>57</td>\n",
       "      <td>17.231137</td>\n",
       "      <td>0</td>\n",
       "      <td>17</td>\n",
       "      <td>(0.0, 75.0]</td>\n",
       "      <td>79</td>\n",
       "      <td>79</td>\n",
       "      <td>49</td>\n",
       "      <td>47</td>\n",
       "    </tr>\n",
       "    <tr>\n",
       "      <th>1</th>\n",
       "      <td>16.9</td>\n",
       "      <td>2010-01-05 16:52:16 UTC</td>\n",
       "      <td>-74.016048</td>\n",
       "      <td>40.711303</td>\n",
       "      <td>-73.979268</td>\n",
       "      <td>40.782004</td>\n",
       "      <td>1</td>\n",
       "      <td>2010-01-05</td>\n",
       "      <td>9.84</td>\n",
       "      <td>0.00</td>\n",
       "      <td>...</td>\n",
       "      <td>30</td>\n",
       "      <td>20</td>\n",
       "      <td>246.295936</td>\n",
       "      <td>1</td>\n",
       "      <td>16</td>\n",
       "      <td>(0.0, 75.0]</td>\n",
       "      <td>41</td>\n",
       "      <td>49</td>\n",
       "      <td>47</td>\n",
       "      <td>62</td>\n",
       "    </tr>\n",
       "    <tr>\n",
       "      <th>2</th>\n",
       "      <td>5.7</td>\n",
       "      <td>2011-08-18 00:35:00 UTC</td>\n",
       "      <td>-73.982738</td>\n",
       "      <td>40.761270</td>\n",
       "      <td>-73.991242</td>\n",
       "      <td>40.750562</td>\n",
       "      <td>2</td>\n",
       "      <td>2011-08-18</td>\n",
       "      <td>4.92</td>\n",
       "      <td>0.07</td>\n",
       "      <td>...</td>\n",
       "      <td>83</td>\n",
       "      <td>67</td>\n",
       "      <td>55.251875</td>\n",
       "      <td>3</td>\n",
       "      <td>0</td>\n",
       "      <td>(0.0, 75.0]</td>\n",
       "      <td>48</td>\n",
       "      <td>46</td>\n",
       "      <td>58</td>\n",
       "      <td>55</td>\n",
       "    </tr>\n",
       "    <tr>\n",
       "      <th>3</th>\n",
       "      <td>7.7</td>\n",
       "      <td>2012-04-21 04:30:42 UTC</td>\n",
       "      <td>-73.987130</td>\n",
       "      <td>40.733143</td>\n",
       "      <td>-73.991567</td>\n",
       "      <td>40.758092</td>\n",
       "      <td>1</td>\n",
       "      <td>2012-04-21</td>\n",
       "      <td>4.92</td>\n",
       "      <td>0.22</td>\n",
       "      <td>...</td>\n",
       "      <td>71</td>\n",
       "      <td>54</td>\n",
       "      <td>38.152003</td>\n",
       "      <td>5</td>\n",
       "      <td>4</td>\n",
       "      <td>(0.0, 75.0]</td>\n",
       "      <td>47</td>\n",
       "      <td>46</td>\n",
       "      <td>52</td>\n",
       "      <td>57</td>\n",
       "    </tr>\n",
       "    <tr>\n",
       "      <th>4</th>\n",
       "      <td>5.3</td>\n",
       "      <td>2010-03-09 07:51:00 UTC</td>\n",
       "      <td>-73.968095</td>\n",
       "      <td>40.768008</td>\n",
       "      <td>-73.956655</td>\n",
       "      <td>40.783762</td>\n",
       "      <td>1</td>\n",
       "      <td>2010-03-09</td>\n",
       "      <td>4.47</td>\n",
       "      <td>0.00</td>\n",
       "      <td>...</td>\n",
       "      <td>61</td>\n",
       "      <td>44</td>\n",
       "      <td>74.122374</td>\n",
       "      <td>1</td>\n",
       "      <td>7</td>\n",
       "      <td>(0.0, 75.0]</td>\n",
       "      <td>51</td>\n",
       "      <td>54</td>\n",
       "      <td>59</td>\n",
       "      <td>63</td>\n",
       "    </tr>\n",
       "  </tbody>\n",
       "</table>\n",
       "<p>5 rows × 22 columns</p>\n",
       "</div>"
      ],
      "text/plain": [
       "   fare_amount          pickup_datetime  pickup_longitude  pickup_latitude  \\\n",
       "0          4.5  2009-06-15 17:26:21 UTC        -73.844311        40.721319   \n",
       "1         16.9  2010-01-05 16:52:16 UTC        -74.016048        40.711303   \n",
       "2          5.7  2011-08-18 00:35:00 UTC        -73.982738        40.761270   \n",
       "3          7.7  2012-04-21 04:30:42 UTC        -73.987130        40.733143   \n",
       "4          5.3  2010-03-09 07:51:00 UTC        -73.968095        40.768008   \n",
       "\n",
       "   dropoff_longitude  dropoff_latitude  passenger_count        DATE  AWND  \\\n",
       "0         -73.841610         40.712278                1  2009-06-15  3.13   \n",
       "1         -73.979268         40.782004                1  2010-01-05  9.84   \n",
       "2         -73.991242         40.750562                2  2011-08-18  4.92   \n",
       "3         -73.991567         40.758092                1  2012-04-21  4.92   \n",
       "4         -73.956655         40.783762                1  2010-03-09  4.47   \n",
       "\n",
       "   PRCP  ...  TMAX  TMIN  distance_traveled_km  week_day  pickup_hour  \\\n",
       "0  0.50  ...    72    57             17.231137         0           17   \n",
       "1  0.00  ...    30    20            246.295936         1           16   \n",
       "2  0.07  ...    83    67             55.251875         3            0   \n",
       "3  0.22  ...    71    54             38.152003         5            4   \n",
       "4  0.00  ...    61    44             74.122374         1            7   \n",
       "\n",
       "   distance_bin  pick_col drop_col  pick_row  drop_row  \n",
       "0   (0.0, 75.0]        79       79        49        47  \n",
       "1   (0.0, 75.0]        41       49        47        62  \n",
       "2   (0.0, 75.0]        48       46        58        55  \n",
       "3   (0.0, 75.0]        47       46        52        57  \n",
       "4   (0.0, 75.0]        51       54        59        63  \n",
       "\n",
       "[5 rows x 22 columns]"
      ]
     },
     "execution_count": 12,
     "metadata": {},
     "output_type": "execute_result"
    }
   ],
   "source": [
    "df.head()"
   ]
  },
  {
   "cell_type": "markdown",
   "metadata": {},
   "source": [
    "try plotting a subsection of these points since it seems like most of the boxes are relatively unused, effectively zooming in"
   ]
  },
  {
   "cell_type": "code",
   "execution_count": 13,
   "metadata": {},
   "outputs": [
    {
     "data": {
      "image/png": "[encoded data removed]",
      "text/plain": [
       "<Figure size 432x288 with 1 Axes>"
      ]
     },
     "metadata": {
      "needs_background": "light"
     },
     "output_type": "display_data"
    }
   ],
   "source": [
    "x_corr = np.concatenate([df['pick_col'].to_numpy(), df['drop_col'].to_numpy()])\n",
    "y_corr = np.concatenate([df['pick_row'].to_numpy(), df['drop_row'].to_numpy()])\n",
    "\n",
    "x_indexes = np.where((x_corr <= 30) | (x_corr >= 85))\n",
    "y_indexes = np.where((y_corr <= 30) | (y_corr >= 85))\n",
    "\n",
    "# get the unique index positions of the observations that don't fit to filter them out\n",
    "indexes = np.unique(np.concatenate([x_indexes, y_indexes], axis=1))\n",
    "\n",
    "# filter the x and y coordinates and then plot\n",
    "x_fil = np.delete(x_corr, indexes)\n",
    "y_fil = np.delete(y_corr, indexes)\n",
    "\n",
    "plt.hexbin(x_fil,y_fil)\n",
    "plt.show()"
   ]
  },
  {
   "cell_type": "markdown",
   "metadata": {},
   "source": [
    "Now find the 100 most densely populated (x, y) pairs in the grid "
   ]
  },
  {
   "cell_type": "code",
   "execution_count": 14,
   "metadata": {},
   "outputs": [],
   "source": [
    "import collections\n",
    "\n",
    "pair_occurances = collections.defaultdict(int)\n",
    "for n in range(len(x_corr)):\n",
    "    #pair = x_corr[n], y_corr[n]\n",
    "    pair_occurances[x_corr[n], y_corr[n]] +=1\n",
    "\n",
    "# sort by descending order of occurances \n",
    "pair_occurances = collections.OrderedDict(sorted(pair_occurances.items(), key=lambda t: t[1], reverse=True))\n",
    "# convert to list\n",
    "pair_occurances = [list(n) for n in list(pair_occurances.keys())]\n",
    "# get 100 most common pairs\n",
    "top_100 = pair_occurances[:100]"
   ]
  },
  {
   "cell_type": "markdown",
   "metadata": {},
   "source": [
    "Now that I have the 100 most common pairs, find all of the observations that fit inside them and use those for the analysis"
   ]
  },
  {
   "cell_type": "code",
   "execution_count": 15,
   "metadata": {
    "scrolled": true
   },
   "outputs": [],
   "source": [
    "# first reset the indexes so that I can iterate through the rows\n",
    "df = df.reset_index(drop=True)\n",
    "\n",
    "df_top = [[] for i in range(100)]\n",
    "\n",
    "for n in range(len(df)):\n",
    "    if [df['pick_col'][n], df['pick_row'][n]] in top_100:\n",
    "        df_top[top_100.index([df['pick_col'][n], df['pick_row'][n]])].append(n)\n",
    "    if [df['drop_col'][n], df['drop_row'][n]] in top_100:\n",
    "        df_top[top_100.index([df['drop_col'][n], df['drop_row'][n]])].append(n)"
   ]
  },
  {
   "cell_type": "markdown",
   "metadata": {},
   "source": [
    "Visualize the distribution of rain and snow"
   ]
  },
  {
   "cell_type": "code",
   "execution_count": 16,
   "metadata": {},
   "outputs": [
    {
     "data": {
      "image/png": "[encoded data removed]",
      "text/plain": [
       "<Figure size 432x288 with 1 Axes>"
      ]
     },
     "metadata": {
      "needs_background": "light"
     },
     "output_type": "display_data"
    }
   ],
   "source": [
    "rain = df.hist(column='PRCP', bins=5)"
   ]
  },
  {
   "cell_type": "code",
   "execution_count": 17,
   "metadata": {},
   "outputs": [
    {
     "data": {
      "image/png": "[encoded data removed]",
      "text/plain": [
       "<Figure size 432x288 with 1 Axes>"
      ]
     },
     "metadata": {
      "needs_background": "light"
     },
     "output_type": "display_data"
    }
   ],
   "source": [
    "snow = df.hist(column='SNOW', bins=5)"
   ]
  },
  {
   "cell_type": "markdown",
   "metadata": {},
   "source": [
    "According the NOAA, snowfall accumulating to 6\" or more in depth in 24 hours or less is considered heavy snowfall, so that will be my cutoff for heavy snow. Also according to NOAA, moderate rainfall measures 0.10 to 0.30 inches of rain per hour and heavy rainfall is more than 0.30 inches of rain per hour. Since this data is over a 24 hour period, I'll say that 0.15 * 24 inches of rain will qualify as heavy rain.\n",
    "\n",
    "To try and control for distance, I've segmented the observations by distance and try to find the average "
   ]
  },
  {
   "cell_type": "code",
   "execution_count": 18,
   "metadata": {},
   "outputs": [],
   "source": [
    "snow_dif = []\n",
    "rain_dif = []\n",
    "\n",
    "for n in df_top:\n",
    "\n",
    "    df_i = df[df.index.isin(n)]\n",
    "\n",
    "    df_snow = df_i[df_i['SNOW'] >= 6]\n",
    "    df_ns = df_i[df_i['SNOW'] < 6]\n",
    "\n",
    "    df_rain = df_i[df_i['PRCP'] >= (0.15 * 24)]\n",
    "    df_nr = df_i[df_i['PRCP'] < (0.15 * 24)]\n",
    "\n",
    "    # to account for distance, find averages for each of the distance buckets\n",
    "    snow_average = df_snow[df_snow['distance_traveled_km'] < 30]['fare_amount'].mean()\n",
    "    ns_average = df_ns[df_ns['distance_traveled_km'] < 30]['fare_amount'].mean()\n",
    "    s_dif = ((snow_average - ns_average) / ns_average * 100.0)\n",
    "    \n",
    "    snow_average = df_snow[(df_snow['distance_traveled_km'] < 50) & (df_snow['distance_traveled_km'] > 30)]['fare_amount'].mean()\n",
    "    ns_average = df_ns[(df_ns['distance_traveled_km'] < 50) & (df_ns['distance_traveled_km'] > 30)]['fare_amount'].mean()\n",
    "    s_dif += ((snow_average - ns_average) / ns_average * 100.0)\n",
    "\n",
    "    snow_average = df_snow[(df_snow['distance_traveled_km'] < 100) & (df_snow['distance_traveled_km'] > 50)]['fare_amount'].mean()\n",
    "    ns_average = df_ns[(df_ns['distance_traveled_km'] < 100) & (df_ns['distance_traveled_km'] > 50)]['fare_amount'].mean()\n",
    "    s_dif += ((snow_average - ns_average) / ns_average * 100.0)\n",
    "    \n",
    "    snow_average += df_snow[df_snow['distance_traveled_km'] > 100]['fare_amount'].mean()\n",
    "    ns_average += df_ns[df_ns['distance_traveled_km'] > 100]['fare_amount'].mean()\n",
    "    s_dif += ((snow_average - ns_average) / ns_average * 100.0)\n",
    "    \n",
    "    \n",
    "\n",
    "    rain_average = df_rain[df_rain['distance_traveled_km'] < 30]['fare_amount'].mean()\n",
    "    nr_average = df_nr[df_nr['distance_traveled_km'] < 30]['fare_amount'].mean()\n",
    "    r_dif = ((rain_average - nr_average) / nr_average * 100.0)\n",
    "\n",
    "    rain_average = df_rain[(df_rain['distance_traveled_km'] < 50) & (df_rain['distance_traveled_km'] > 30)]['fare_amount'].mean()\n",
    "    nr_average = df_nr[(df_nr['distance_traveled_km'] < 50) & (df_nr['distance_traveled_km'] > 30)]['fare_amount'].mean()\n",
    "    r_dif += ((rain_average - nr_average) / nr_average * 100.0)\n",
    "\n",
    "    rain_average = df_rain[(df_rain['distance_traveled_km'] < 100) & (df_rain['distance_traveled_km'] > 50)]['fare_amount'].mean()\n",
    "    nr_average = df_nr[(df_nr['distance_traveled_km'] < 100) & (df_nr['distance_traveled_km'] > 50)]['fare_amount'].mean()\n",
    "    r_dif += ((rain_average - nr_average) / nr_average * 100.0)\n",
    "    \n",
    "    rain_average = df_snow[df_snow['distance_traveled_km'] > 100]['fare_amount'].mean()\n",
    "    nr_average = df_ns[df_ns['distance_traveled_km'] > 100]['fare_amount'].mean()\n",
    "    r_dif += ((rain_average - nr_average) / nr_average * 100.0)\n",
    "    \n",
    "    snow_dif.append(s_dif/4)\n",
    "    rain_dif.append(r_dif/4)"
   ]
  },
  {
   "cell_type": "markdown",
   "metadata": {},
   "source": [
    "now that we have 2 lists of the differences for each geographic zone, create a dataframe where the columns are the percent differences due to rain and snow and the rows are each of the zones"
   ]
  },
  {
   "cell_type": "code",
   "execution_count": 19,
   "metadata": {},
   "outputs": [],
   "source": [
    "df_zones = pd.DataFrame({'Snow': snow_dif, 'Rain': rain_dif})\n",
    "\n",
    "# start the index from 1\n",
    "df_zones.index = np.arange(1, len(df_zones) + 1)\n",
    "\n",
    "df_zones.to_csv('submission.csv')"
   ]
  },
  {
   "cell_type": "code",
   "execution_count": 20,
   "metadata": {},
   "outputs": [
    {
     "data": {
      "text/html": [
       "<div>\n",
       "<style scoped>\n",
       "    .dataframe tbody tr th:only-of-type {\n",
       "        vertical-align: middle;\n",
       "    }\n",
       "\n",
       "    .dataframe tbody tr th {\n",
       "        vertical-align: top;\n",
       "    }\n",
       "\n",
       "    .dataframe thead th {\n",
       "        text-align: right;\n",
       "    }\n",
       "</style>\n",
       "<table border=\"1\" class=\"dataframe\">\n",
       "  <thead>\n",
       "    <tr style=\"text-align: right;\">\n",
       "      <th></th>\n",
       "      <th>Snow</th>\n",
       "      <th>Rain</th>\n",
       "    </tr>\n",
       "  </thead>\n",
       "  <tbody>\n",
       "    <tr>\n",
       "      <th>1</th>\n",
       "      <td>-5.420136</td>\n",
       "      <td>-3.902233</td>\n",
       "    </tr>\n",
       "    <tr>\n",
       "      <th>2</th>\n",
       "      <td>-4.945944</td>\n",
       "      <td>-3.765901</td>\n",
       "    </tr>\n",
       "    <tr>\n",
       "      <th>3</th>\n",
       "      <td>1.717089</td>\n",
       "      <td>13.405614</td>\n",
       "    </tr>\n",
       "    <tr>\n",
       "      <th>4</th>\n",
       "      <td>-3.908047</td>\n",
       "      <td>-1.184470</td>\n",
       "    </tr>\n",
       "    <tr>\n",
       "      <th>5</th>\n",
       "      <td>-5.238583</td>\n",
       "      <td>31.510532</td>\n",
       "    </tr>\n",
       "    <tr>\n",
       "      <th>...</th>\n",
       "      <td>...</td>\n",
       "      <td>...</td>\n",
       "    </tr>\n",
       "    <tr>\n",
       "      <th>96</th>\n",
       "      <td>-7.478617</td>\n",
       "      <td>-15.673104</td>\n",
       "    </tr>\n",
       "    <tr>\n",
       "      <th>97</th>\n",
       "      <td>-1.443182</td>\n",
       "      <td>2.443101</td>\n",
       "    </tr>\n",
       "    <tr>\n",
       "      <th>98</th>\n",
       "      <td>-12.328111</td>\n",
       "      <td>NaN</td>\n",
       "    </tr>\n",
       "    <tr>\n",
       "      <th>99</th>\n",
       "      <td>-6.431143</td>\n",
       "      <td>-3.018862</td>\n",
       "    </tr>\n",
       "    <tr>\n",
       "      <th>100</th>\n",
       "      <td>-0.660344</td>\n",
       "      <td>9.209927</td>\n",
       "    </tr>\n",
       "  </tbody>\n",
       "</table>\n",
       "<p>100 rows × 2 columns</p>\n",
       "</div>"
      ],
      "text/plain": [
       "          Snow       Rain\n",
       "1    -5.420136  -3.902233\n",
       "2    -4.945944  -3.765901\n",
       "3     1.717089  13.405614\n",
       "4    -3.908047  -1.184470\n",
       "5    -5.238583  31.510532\n",
       "..         ...        ...\n",
       "96   -7.478617 -15.673104\n",
       "97   -1.443182   2.443101\n",
       "98  -12.328111        NaN\n",
       "99   -6.431143  -3.018862\n",
       "100  -0.660344   9.209927\n",
       "\n",
       "[100 rows x 2 columns]"
      ]
     },
     "execution_count": 20,
     "metadata": {},
     "output_type": "execute_result"
    }
   ],
   "source": [
    "df_zones"
   ]
  }
 ],
 "metadata": {
  "kernelspec": {
   "display_name": "Python 3",
   "language": "python",
   "name": "python3"
  },
  "language_info": {
   "codemirror_mode": {
    "name": "ipython",
    "version": 3
   },
   "file_extension": ".py",
   "mimetype": "text/x-python",
   "name": "python",
   "nbconvert_exporter": "python",
   "pygments_lexer": "ipython3",
   "version": "3.8.5"
  }
 },
 "nbformat": 4,
 "nbformat_minor": 4
}
